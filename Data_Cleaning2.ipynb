{
 "cells": [
  {
   "cell_type": "markdown",
   "id": "18daff50",
   "metadata": {},
   "source": [
    "# Data cleaning"
   ]
  },
  {
   "cell_type": "code",
   "execution_count": 1,
   "id": "dc22a7b0",
   "metadata": {},
   "outputs": [],
   "source": [
    "#Feel free to use these or equivalent libraries for your implementation\n",
    "import numpy as np # linear algebra\n",
    "import pandas as pd # data processing, CSV file I/O (e.g. pd.read_csv)\n",
    "import matplotlib.pyplot as plt # this is used for the plot the graph \n",
    "import os\n",
    "import seaborn as sns # used for plot interactive graph.\n",
    "from sklearn.model_selection import train_test_split, cross_val_score, GridSearchCV\n",
    "from sklearn import metrics\n",
    "from sklearn.svm import SVC  \n",
    "from sklearn.linear_model import LogisticRegression\n",
    "from sklearn.neighbors import KNeighborsClassifier\n",
    "from sklearn.tree import DecisionTreeClassifier\n",
    "from sklearn.cluster import KMeans\n",
    "from sklearn.metrics import confusion_matrix\n",
    "import sklearn.metrics.cluster as smc\n",
    "from sklearn.model_selection import KFold\n",
    "from sklearn.preprocessing import LabelEncoder, StandardScaler\n",
    "\n",
    "\n",
    "from matplotlib import pyplot\n",
    "import itertools\n",
    "\n",
    "%matplotlib inline\n",
    "\n",
    "import random \n",
    "  \n",
    "random.seed(42) "
   ]
  },
  {
   "cell_type": "code",
   "execution_count": 2,
   "id": "cd3c444d",
   "metadata": {},
   "outputs": [],
   "source": [
    "# dropping unneeded columns\n",
    "rawData = pd.read_csv(\"Kepler_Data.csv\")\n",
    "rawData = rawData.drop(\"koi_disposition\", axis = 1)\n",
    "rawData = rawData.drop([\"rowid\", \"kepid\", \"kepoi_name\", \"kepler_name\", \"koi_tce_delivname\"], axis = 1)\n",
    "dropCols = rawData.filter(regex=\"err\\d$\").columns\n",
    "rawData = rawData.drop(dropCols,axis = 1)"
   ]
  },
  {
   "cell_type": "code",
   "execution_count": 7,
   "id": "f3e823f4",
   "metadata": {},
   "outputs": [
    {
     "name": "stdout",
     "output_type": "stream",
     "text": [
      "<class 'pandas.core.frame.DataFrame'>\n",
      "RangeIndex: 9564 entries, 0 to 9563\n",
      "Data columns (total 22 columns):\n",
      " #   Column            Non-Null Count  Dtype  \n",
      "---  ------            --------------  -----  \n",
      " 0   koi_pdisposition  9564 non-null   int64  \n",
      " 1   koi_score         8054 non-null   float64\n",
      " 2   koi_fpflag_nt     9564 non-null   float64\n",
      " 3   koi_fpflag_ss     9564 non-null   float64\n",
      " 4   koi_fpflag_co     9564 non-null   float64\n",
      " 5   koi_fpflag_ec     9564 non-null   float64\n",
      " 6   koi_period        9564 non-null   float64\n",
      " 7   koi_time0bk       9564 non-null   float64\n",
      " 8   koi_impact        9201 non-null   float64\n",
      " 9   koi_duration      9564 non-null   float64\n",
      " 10  koi_depth         9201 non-null   float64\n",
      " 11  koi_prad          9201 non-null   float64\n",
      " 12  koi_teq           9201 non-null   float64\n",
      " 13  koi_insol         9243 non-null   float64\n",
      " 14  koi_model_snr     9201 non-null   float64\n",
      " 15  koi_tce_plnt_num  9218 non-null   float64\n",
      " 16  koi_steff         9201 non-null   float64\n",
      " 17  koi_slogg         9201 non-null   float64\n",
      " 18  koi_srad          9201 non-null   float64\n",
      " 19  ra                9564 non-null   float64\n",
      " 20  dec               9564 non-null   float64\n",
      " 21  koi_kepmag        9563 non-null   float64\n",
      "dtypes: float64(21), int64(1)\n",
      "memory usage: 1.6 MB\n"
     ]
    }
   ],
   "source": [
    "# transforming data (label encoder and standard scalar)\n",
    "le = LabelEncoder()\n",
    "rawData['koi_pdisposition'] = le.fit_transform(rawData['koi_pdisposition'])\n",
    "numericCols = rawData.drop('koi_pdisposition',axis=1).select_dtypes(np.number).columns.to_list()\n",
    "ss = StandardScaler()\n",
    "rawData[numericCols] = ss.fit_transform(rawData[numericCols])\n",
    "rawData.to_csv(\"cleanData2.csv\")\n",
    "rawData.info()"
   ]
  }
 ],
 "metadata": {
  "kernelspec": {
   "display_name": "Python 3",
   "language": "python",
   "name": "python3"
  },
  "language_info": {
   "codemirror_mode": {
    "name": "ipython",
    "version": 3
   },
   "file_extension": ".py",
   "mimetype": "text/x-python",
   "name": "python",
   "nbconvert_exporter": "python",
   "pygments_lexer": "ipython3",
   "version": "3.8.8"
  }
 },
 "nbformat": 4,
 "nbformat_minor": 5
}
