{
 "cells": [
  {
   "cell_type": "markdown",
   "id": "28378f98",
   "metadata": {},
   "source": [
    "# SVM \n",
    "Support vector machine testing"
   ]
  },
  {
   "cell_type": "markdown",
   "id": "6d0ee114",
   "metadata": {},
   "source": [
    "## Loading Essentials and Helper Functions \n",
    "This is a lolt of imports and you may not use all of them but some of them may be useful, and looking into the documentation can help you learn (eg sklearn.metrics can help give you an idea of how to asses the usefulness of a particular model!)"
   ]
  },
  {
   "cell_type": "code",
   "execution_count": 1,
   "id": "f2b93db3",
   "metadata": {},
   "outputs": [],
   "source": [
    "#Feel free to use these or equivalent libraries for your implementation\n",
    "import numpy as np # linear algebra\n",
    "import pandas as pd # data processing, CSV file I/O (e.g. pd.read_csv)\n",
    "import matplotlib.pyplot as plt # this is used for the plot the graph \n",
    "import os\n",
    "import seaborn as sns # used for plot interactive graph.\n",
    "from sklearn.model_selection import train_test_split, cross_val_score, GridSearchCV\n",
    "from sklearn import metrics\n",
    "from sklearn.svm import SVC  \n",
    "from sklearn.linear_model import LogisticRegression\n",
    "from sklearn.neighbors import KNeighborsClassifier\n",
    "from sklearn.tree import DecisionTreeClassifier\n",
    "from sklearn.cluster import KMeans\n",
    "from sklearn.metrics import confusion_matrix\n",
    "import sklearn.metrics.cluster as smc\n",
    "from sklearn.model_selection import KFold\n",
    "from sklearn.preprocessing import LabelEncoder, StandardScaler\n",
    "\n",
    "\n",
    "from matplotlib import pyplot\n",
    "import itertools\n",
    "\n",
    "%matplotlib inline\n",
    "\n",
    "import random \n",
    "  \n",
    "random.seed(42) "
   ]
  },
  {
   "cell_type": "code",
   "execution_count": 2,
   "id": "265f6b40",
   "metadata": {},
   "outputs": [],
   "source": [
    "# Helper function that allows you to draw nicely formatted confusion matrices\n",
    "def draw_confusion_matrix(y, yhat, classes):\n",
    "    '''\n",
    "        Draws a confusion matrix for the given target and predictions\n",
    "        Adapted from scikit-learn and discussion example.\n",
    "    '''\n",
    "    plt.cla()\n",
    "    plt.clf()\n",
    "    matrix = confusion_matrix(y, yhat)\n",
    "    plt.imshow(matrix, interpolation='nearest', cmap=plt.cm.Blues)\n",
    "    plt.title(\"Confusion Matrix\")\n",
    "    plt.colorbar()\n",
    "    num_classes = len(classes)\n",
    "    plt.xticks(np.arange(num_classes), classes, rotation=90)\n",
    "    plt.yticks(np.arange(num_classes), classes)\n",
    "    \n",
    "    fmt = 'd'\n",
    "    thresh = matrix.max() / 2.\n",
    "    for i, j in itertools.product(range(matrix.shape[0]), range(matrix.shape[1])):\n",
    "        plt.text(j, i, format(matrix[i, j], fmt),\n",
    "                 horizontalalignment=\"center\",\n",
    "                 color=\"white\" if matrix[i, j] > thresh else \"black\")\n",
    "\n",
    "    plt.ylabel('True label')\n",
    "    plt.xlabel('Predicted label')\n",
    "    plt.tight_layout()\n",
    "    plt.show()"
   ]
  },
  {
   "cell_type": "code",
   "execution_count": 3,
   "id": "2abe288a",
   "metadata": {},
   "outputs": [],
   "source": [
    "kepler = pd.read_csv('cleanData2.csv')\n",
    "kepler.drop('Unnamed: 0', axis = 1,inplace=True)"
   ]
  },
  {
   "cell_type": "code",
   "execution_count": 4,
   "id": "daf4fcd2",
   "metadata": {},
   "outputs": [
    {
     "name": "stdout",
     "output_type": "stream",
     "text": [
      "<class 'pandas.core.frame.DataFrame'>\n",
      "RangeIndex: 9564 entries, 0 to 9563\n",
      "Data columns (total 22 columns):\n",
      " #   Column            Non-Null Count  Dtype  \n",
      "---  ------            --------------  -----  \n",
      " 0   koi_pdisposition  9564 non-null   int64  \n",
      " 1   koi_score         8054 non-null   float64\n",
      " 2   koi_fpflag_nt     9564 non-null   float64\n",
      " 3   koi_fpflag_ss     9564 non-null   float64\n",
      " 4   koi_fpflag_co     9564 non-null   float64\n",
      " 5   koi_fpflag_ec     9564 non-null   float64\n",
      " 6   koi_period        9564 non-null   float64\n",
      " 7   koi_time0bk       9564 non-null   float64\n",
      " 8   koi_impact        9201 non-null   float64\n",
      " 9   koi_duration      9564 non-null   float64\n",
      " 10  koi_depth         9201 non-null   float64\n",
      " 11  koi_prad          9201 non-null   float64\n",
      " 12  koi_teq           9201 non-null   float64\n",
      " 13  koi_insol         9243 non-null   float64\n",
      " 14  koi_model_snr     9201 non-null   float64\n",
      " 15  koi_tce_plnt_num  9218 non-null   float64\n",
      " 16  koi_steff         9201 non-null   float64\n",
      " 17  koi_slogg         9201 non-null   float64\n",
      " 18  koi_srad          9201 non-null   float64\n",
      " 19  ra                9564 non-null   float64\n",
      " 20  dec               9564 non-null   float64\n",
      " 21  koi_kepmag        9563 non-null   float64\n",
      "dtypes: float64(21), int64(1)\n",
      "memory usage: 1.6 MB\n"
     ]
    }
   ],
   "source": [
    "kepler.info()"
   ]
  },
  {
   "cell_type": "code",
   "execution_count": 5,
   "id": "10c9b216",
   "metadata": {},
   "outputs": [
    {
     "data": {
      "text/html": [
       "<div>\n",
       "<style scoped>\n",
       "    .dataframe tbody tr th:only-of-type {\n",
       "        vertical-align: middle;\n",
       "    }\n",
       "\n",
       "    .dataframe tbody tr th {\n",
       "        vertical-align: top;\n",
       "    }\n",
       "\n",
       "    .dataframe thead th {\n",
       "        text-align: right;\n",
       "    }\n",
       "</style>\n",
       "<table border=\"1\" class=\"dataframe\">\n",
       "  <thead>\n",
       "    <tr style=\"text-align: right;\">\n",
       "      <th></th>\n",
       "      <th>koi_pdisposition</th>\n",
       "      <th>koi_score</th>\n",
       "      <th>koi_fpflag_nt</th>\n",
       "      <th>koi_fpflag_ss</th>\n",
       "      <th>koi_fpflag_co</th>\n",
       "      <th>koi_fpflag_ec</th>\n",
       "      <th>koi_period</th>\n",
       "      <th>koi_time0bk</th>\n",
       "      <th>koi_impact</th>\n",
       "      <th>koi_duration</th>\n",
       "      <th>...</th>\n",
       "      <th>koi_teq</th>\n",
       "      <th>koi_insol</th>\n",
       "      <th>koi_model_snr</th>\n",
       "      <th>koi_tce_plnt_num</th>\n",
       "      <th>koi_steff</th>\n",
       "      <th>koi_slogg</th>\n",
       "      <th>koi_srad</th>\n",
       "      <th>ra</th>\n",
       "      <th>dec</th>\n",
       "      <th>koi_kepmag</th>\n",
       "    </tr>\n",
       "  </thead>\n",
       "  <tbody>\n",
       "    <tr>\n",
       "      <th>count</th>\n",
       "      <td>9564.000000</td>\n",
       "      <td>8.054000e+03</td>\n",
       "      <td>9.564000e+03</td>\n",
       "      <td>9.564000e+03</td>\n",
       "      <td>9.564000e+03</td>\n",
       "      <td>9.564000e+03</td>\n",
       "      <td>9.564000e+03</td>\n",
       "      <td>9.564000e+03</td>\n",
       "      <td>9.201000e+03</td>\n",
       "      <td>9564.000000</td>\n",
       "      <td>...</td>\n",
       "      <td>9.201000e+03</td>\n",
       "      <td>9.243000e+03</td>\n",
       "      <td>9.201000e+03</td>\n",
       "      <td>9.218000e+03</td>\n",
       "      <td>9.201000e+03</td>\n",
       "      <td>9.201000e+03</td>\n",
       "      <td>9.201000e+03</td>\n",
       "      <td>9.564000e+03</td>\n",
       "      <td>9.564000e+03</td>\n",
       "      <td>9.563000e+03</td>\n",
       "    </tr>\n",
       "    <tr>\n",
       "      <th>mean</th>\n",
       "      <td>0.529904</td>\n",
       "      <td>5.646230e-17</td>\n",
       "      <td>1.545304e-16</td>\n",
       "      <td>-5.943478e-18</td>\n",
       "      <td>-5.943478e-18</td>\n",
       "      <td>-8.915216e-18</td>\n",
       "      <td>2.303098e-17</td>\n",
       "      <td>-1.069826e-16</td>\n",
       "      <td>-7.722451e-19</td>\n",
       "      <td>0.000000</td>\n",
       "      <td>...</td>\n",
       "      <td>9.266941e-18</td>\n",
       "      <td>4.458669e-17</td>\n",
       "      <td>-4.942369e-17</td>\n",
       "      <td>6.783224e-17</td>\n",
       "      <td>-2.316735e-16</td>\n",
       "      <td>1.668049e-16</td>\n",
       "      <td>3.552328e-17</td>\n",
       "      <td>1.887426e-15</td>\n",
       "      <td>-7.459064e-16</td>\n",
       "      <td>-3.343556e-16</td>\n",
       "    </tr>\n",
       "    <tr>\n",
       "      <th>std</th>\n",
       "      <td>0.499131</td>\n",
       "      <td>1.000062e+00</td>\n",
       "      <td>1.000052e+00</td>\n",
       "      <td>1.000052e+00</td>\n",
       "      <td>1.000052e+00</td>\n",
       "      <td>1.000052e+00</td>\n",
       "      <td>1.000052e+00</td>\n",
       "      <td>1.000052e+00</td>\n",
       "      <td>1.000054e+00</td>\n",
       "      <td>1.000052</td>\n",
       "      <td>...</td>\n",
       "      <td>1.000054e+00</td>\n",
       "      <td>1.000054e+00</td>\n",
       "      <td>1.000054e+00</td>\n",
       "      <td>1.000054e+00</td>\n",
       "      <td>1.000054e+00</td>\n",
       "      <td>1.000054e+00</td>\n",
       "      <td>1.000054e+00</td>\n",
       "      <td>1.000052e+00</td>\n",
       "      <td>1.000052e+00</td>\n",
       "      <td>1.000052e+00</td>\n",
       "    </tr>\n",
       "    <tr>\n",
       "      <th>min</th>\n",
       "      <td>0.000000</td>\n",
       "      <td>-1.008242e+00</td>\n",
       "      <td>-4.814969e-01</td>\n",
       "      <td>-5.490005e-01</td>\n",
       "      <td>-4.920141e-01</td>\n",
       "      <td>-3.693330e-01</td>\n",
       "      <td>-5.651530e-02</td>\n",
       "      <td>-6.724150e-01</td>\n",
       "      <td>-2.195229e-01</td>\n",
       "      <td>-0.860674</td>\n",
       "      <td>...</td>\n",
       "      <td>-1.238328e+00</td>\n",
       "      <td>-4.865533e-02</td>\n",
       "      <td>-3.265983e-01</td>\n",
       "      <td>-3.666519e-01</td>\n",
       "      <td>-3.822499e+00</td>\n",
       "      <td>-9.855119e+00</td>\n",
       "      <td>-2.643628e-01</td>\n",
       "      <td>-2.561141e+00</td>\n",
       "      <td>-2.008593e+00</td>\n",
       "      <td>-5.268323e+00</td>\n",
       "    </tr>\n",
       "    <tr>\n",
       "      <th>25%</th>\n",
       "      <td>0.000000</td>\n",
       "      <td>-1.008242e+00</td>\n",
       "      <td>-4.814969e-01</td>\n",
       "      <td>-5.490005e-01</td>\n",
       "      <td>-4.920141e-01</td>\n",
       "      <td>-3.693330e-01</td>\n",
       "      <td>-5.464830e-02</td>\n",
       "      <td>-4.921053e-01</td>\n",
       "      <td>-1.606933e-01</td>\n",
       "      <td>-0.492003</td>\n",
       "      <td>...</td>\n",
       "      <td>-6.380741e-01</td>\n",
       "      <td>-4.852876e-02</td>\n",
       "      <td>-3.115185e-01</td>\n",
       "      <td>-3.666519e-01</td>\n",
       "      <td>-4.980120e-01</td>\n",
       "      <td>-2.130380e-01</td>\n",
       "      <td>-1.468473e-01</td>\n",
       "      <td>-7.131981e-01</td>\n",
       "      <td>-8.423255e-01</td>\n",
       "      <td>-5.952219e-01</td>\n",
       "    </tr>\n",
       "    <tr>\n",
       "      <th>50%</th>\n",
       "      <td>1.000000</td>\n",
       "      <td>-3.078837e-01</td>\n",
       "      <td>-4.814969e-01</td>\n",
       "      <td>-5.490005e-01</td>\n",
       "      <td>-4.920141e-01</td>\n",
       "      <td>-3.693330e-01</td>\n",
       "      <td>-4.938923e-02</td>\n",
       "      <td>-4.263930e-01</td>\n",
       "      <td>-5.915980e-02</td>\n",
       "      <td>-0.282637</td>\n",
       "      <td>...</td>\n",
       "      <td>-2.421870e-01</td>\n",
       "      <td>-4.776586e-02</td>\n",
       "      <td>-2.976953e-01</td>\n",
       "      <td>-3.666519e-01</td>\n",
       "      <td>7.552160e-02</td>\n",
       "      <td>2.955350e-01</td>\n",
       "      <td>-1.189374e-01</td>\n",
       "      <td>4.216215e-02</td>\n",
       "      <td>-3.691408e-02</td>\n",
       "      <td>1.843500e-01</td>\n",
       "    </tr>\n",
       "    <tr>\n",
       "      <th>75%</th>\n",
       "      <td>1.000000</td>\n",
       "      <td>1.084445e+00</td>\n",
       "      <td>-4.814969e-01</td>\n",
       "      <td>-5.490005e-01</td>\n",
       "      <td>-4.920141e-01</td>\n",
       "      <td>-3.693330e-01</td>\n",
       "      <td>-2.619080e-02</td>\n",
       "      <td>6.642606e-02</td>\n",
       "      <td>4.595718e-02</td>\n",
       "      <td>0.101201</td>\n",
       "      <td>...</td>\n",
       "      <td>3.428852e-01</td>\n",
       "      <td>-4.318855e-02</td>\n",
       "      <td>-2.285793e-01</td>\n",
       "      <td>-3.666519e-01</td>\n",
       "      <td>5.084956e-01</td>\n",
       "      <td>5.382630e-01</td>\n",
       "      <td>-6.262785e-02</td>\n",
       "      <td>7.970356e-01</td>\n",
       "      <td>8.064799e-01</td>\n",
       "      <td>7.632544e-01</td>\n",
       "    </tr>\n",
       "    <tr>\n",
       "      <th>max</th>\n",
       "      <td>1.000000</td>\n",
       "      <td>1.088639e+00</td>\n",
       "      <td>2.076857e+00</td>\n",
       "      <td>1.821492e+00</td>\n",
       "      <td>2.032462e+00</td>\n",
       "      <td>2.707584e+00</td>\n",
       "      <td>9.734218e+01</td>\n",
       "      <td>1.923480e+01</td>\n",
       "      <td>2.988395e+01</td>\n",
       "      <td>20.539943</td>\n",
       "      <td>...</td>\n",
       "      <td>1.586073e+01</td>\n",
       "      <td>6.871910e+01</td>\n",
       "      <td>1.105204e+01</td>\n",
       "      <td>1.016700e+01</td>\n",
       "      <td>1.278739e+01</td>\n",
       "      <td>2.436165e+00</td>\n",
       "      <td>3.724250e+01</td>\n",
       "      <td>2.026809e+00</td>\n",
       "      <td>2.367522e+00</td>\n",
       "      <td>4.142121e+00</td>\n",
       "    </tr>\n",
       "  </tbody>\n",
       "</table>\n",
       "<p>8 rows × 22 columns</p>\n",
       "</div>"
      ],
      "text/plain": [
       "       koi_pdisposition     koi_score  koi_fpflag_nt  koi_fpflag_ss  \\\n",
       "count       9564.000000  8.054000e+03   9.564000e+03   9.564000e+03   \n",
       "mean           0.529904  5.646230e-17   1.545304e-16  -5.943478e-18   \n",
       "std            0.499131  1.000062e+00   1.000052e+00   1.000052e+00   \n",
       "min            0.000000 -1.008242e+00  -4.814969e-01  -5.490005e-01   \n",
       "25%            0.000000 -1.008242e+00  -4.814969e-01  -5.490005e-01   \n",
       "50%            1.000000 -3.078837e-01  -4.814969e-01  -5.490005e-01   \n",
       "75%            1.000000  1.084445e+00  -4.814969e-01  -5.490005e-01   \n",
       "max            1.000000  1.088639e+00   2.076857e+00   1.821492e+00   \n",
       "\n",
       "       koi_fpflag_co  koi_fpflag_ec    koi_period   koi_time0bk    koi_impact  \\\n",
       "count   9.564000e+03   9.564000e+03  9.564000e+03  9.564000e+03  9.201000e+03   \n",
       "mean   -5.943478e-18  -8.915216e-18  2.303098e-17 -1.069826e-16 -7.722451e-19   \n",
       "std     1.000052e+00   1.000052e+00  1.000052e+00  1.000052e+00  1.000054e+00   \n",
       "min    -4.920141e-01  -3.693330e-01 -5.651530e-02 -6.724150e-01 -2.195229e-01   \n",
       "25%    -4.920141e-01  -3.693330e-01 -5.464830e-02 -4.921053e-01 -1.606933e-01   \n",
       "50%    -4.920141e-01  -3.693330e-01 -4.938923e-02 -4.263930e-01 -5.915980e-02   \n",
       "75%    -4.920141e-01  -3.693330e-01 -2.619080e-02  6.642606e-02  4.595718e-02   \n",
       "max     2.032462e+00   2.707584e+00  9.734218e+01  1.923480e+01  2.988395e+01   \n",
       "\n",
       "       koi_duration  ...       koi_teq     koi_insol  koi_model_snr  \\\n",
       "count   9564.000000  ...  9.201000e+03  9.243000e+03   9.201000e+03   \n",
       "mean       0.000000  ...  9.266941e-18  4.458669e-17  -4.942369e-17   \n",
       "std        1.000052  ...  1.000054e+00  1.000054e+00   1.000054e+00   \n",
       "min       -0.860674  ... -1.238328e+00 -4.865533e-02  -3.265983e-01   \n",
       "25%       -0.492003  ... -6.380741e-01 -4.852876e-02  -3.115185e-01   \n",
       "50%       -0.282637  ... -2.421870e-01 -4.776586e-02  -2.976953e-01   \n",
       "75%        0.101201  ...  3.428852e-01 -4.318855e-02  -2.285793e-01   \n",
       "max       20.539943  ...  1.586073e+01  6.871910e+01   1.105204e+01   \n",
       "\n",
       "       koi_tce_plnt_num     koi_steff     koi_slogg      koi_srad  \\\n",
       "count      9.218000e+03  9.201000e+03  9.201000e+03  9.201000e+03   \n",
       "mean       6.783224e-17 -2.316735e-16  1.668049e-16  3.552328e-17   \n",
       "std        1.000054e+00  1.000054e+00  1.000054e+00  1.000054e+00   \n",
       "min       -3.666519e-01 -3.822499e+00 -9.855119e+00 -2.643628e-01   \n",
       "25%       -3.666519e-01 -4.980120e-01 -2.130380e-01 -1.468473e-01   \n",
       "50%       -3.666519e-01  7.552160e-02  2.955350e-01 -1.189374e-01   \n",
       "75%       -3.666519e-01  5.084956e-01  5.382630e-01 -6.262785e-02   \n",
       "max        1.016700e+01  1.278739e+01  2.436165e+00  3.724250e+01   \n",
       "\n",
       "                 ra           dec    koi_kepmag  \n",
       "count  9.564000e+03  9.564000e+03  9.563000e+03  \n",
       "mean   1.887426e-15 -7.459064e-16 -3.343556e-16  \n",
       "std    1.000052e+00  1.000052e+00  1.000052e+00  \n",
       "min   -2.561141e+00 -2.008593e+00 -5.268323e+00  \n",
       "25%   -7.131981e-01 -8.423255e-01 -5.952219e-01  \n",
       "50%    4.216215e-02 -3.691408e-02  1.843500e-01  \n",
       "75%    7.970356e-01  8.064799e-01  7.632544e-01  \n",
       "max    2.026809e+00  2.367522e+00  4.142121e+00  \n",
       "\n",
       "[8 rows x 22 columns]"
      ]
     },
     "execution_count": 5,
     "metadata": {},
     "output_type": "execute_result"
    }
   ],
   "source": [
    "kepler.describe()"
   ]
  },
  {
   "cell_type": "code",
   "execution_count": 6,
   "id": "d273b6ea",
   "metadata": {},
   "outputs": [],
   "source": [
    "kepler.drop('koi_score', inplace=True, axis=1)\n",
    "kepler.dropna(inplace=True)"
   ]
  },
  {
   "cell_type": "markdown",
   "id": "ba43f70d",
   "metadata": {},
   "source": [
    "### Save the label column as a separate array and then drop it from the dataframe. "
   ]
  },
  {
   "cell_type": "code",
   "execution_count": 7,
   "id": "50337e47",
   "metadata": {},
   "outputs": [],
   "source": [
    "label = \"koi_pdisposition\"\n",
    "y = kepler[label]\n",
    "x = kepler.drop(label, axis=1)"
   ]
  },
  {
   "cell_type": "markdown",
   "id": "d52fdab7",
   "metadata": {},
   "source": [
    "### Split the data into train, test, target, and target_test"
   ]
  },
  {
   "cell_type": "code",
   "execution_count": 8,
   "id": "82662027",
   "metadata": {},
   "outputs": [],
   "source": [
    "train, test, target, target_test = train_test_split(x, y, test_size=0.2, random_state=0)"
   ]
  },
  {
   "cell_type": "code",
   "execution_count": 9,
   "id": "e467a2f1",
   "metadata": {},
   "outputs": [
    {
     "data": {
      "text/plain": [
       "SVC(probability=True)"
      ]
     },
     "execution_count": 9,
     "metadata": {},
     "output_type": "execute_result"
    }
   ],
   "source": [
    "# SVM\n",
    "svm = SVC(probability=True)\n",
    "svm.fit(train, target)"
   ]
  },
  {
   "cell_type": "code",
   "execution_count": 10,
   "id": "48fa5013",
   "metadata": {},
   "outputs": [
    {
     "data": {
      "text/plain": [
       "0.9932923420905534"
      ]
     },
     "execution_count": 10,
     "metadata": {},
     "output_type": "execute_result"
    }
   ],
   "source": [
    "# Report on model Accuracy\n",
    "svm_pred = svm.predict(test)\n",
    "metrics.accuracy_score(target_test, svm_pred)"
   ]
  },
  {
   "cell_type": "code",
   "execution_count": 11,
   "id": "e6810bf0",
   "metadata": {},
   "outputs": [
    {
     "data": {
      "text/plain": [
       "<sklearn.metrics._plot.roc_curve.RocCurveDisplay at 0x183d3ec8430>"
      ]
     },
     "execution_count": 11,
     "metadata": {},
     "output_type": "execute_result"
    },
    {
     "data": {
      "image/png": "[encoded data removed]",
      "text/plain": [
       "<Figure size 432x288 with 1 Axes>"
      ]
     },
     "metadata": {
      "needs_background": "light"
     },
     "output_type": "display_data"
    }
   ],
   "source": [
    "metrics.plot_roc_curve(svm, test, target_test)"
   ]
  },
  {
   "cell_type": "code",
   "execution_count": 12,
   "id": "c4cbfa08",
   "metadata": {},
   "outputs": [
    {
     "data": {
      "image/png": "[encoded data removed]",
      "text/plain": [
       "<Figure size 432x288 with 2 Axes>"
      ]
     },
     "metadata": {
      "needs_background": "light"
     },
     "output_type": "display_data"
    }
   ],
   "source": [
    "draw_confusion_matrix(target_test, svm_pred, ['Exoplanet', 'Not Exoplanet'])"
   ]
  },
  {
   "cell_type": "markdown",
   "id": "2565ad5b",
   "metadata": {},
   "source": [
    "## Try again without flag columns"
   ]
  },
  {
   "cell_type": "code",
   "execution_count": 13,
   "id": "170c1ac0",
   "metadata": {},
   "outputs": [],
   "source": [
    "flags = [col for col in kepler.columns if 'flag' in col]\n",
    "kepler2 = kepler.drop(flags, axis=1)\n",
    "label = \"koi_pdisposition\"\n",
    "y2 = kepler2[label]\n",
    "x2 = kepler2.drop(label, axis=1)"
   ]
  },
  {
   "cell_type": "code",
   "execution_count": 14,
   "id": "45504292",
   "metadata": {},
   "outputs": [],
   "source": [
    "train, test, target, target_test = train_test_split(x2, y2, test_size=0.2, random_state=0)"
   ]
  },
  {
   "cell_type": "code",
   "execution_count": 15,
   "id": "af537632",
   "metadata": {},
   "outputs": [
    {
     "data": {
      "text/plain": [
       "SVC(probability=True)"
      ]
     },
     "execution_count": 15,
     "metadata": {},
     "output_type": "execute_result"
    }
   ],
   "source": [
    "svm = SVC(probability=True)\n",
    "svm.fit(train, target)"
   ]
  },
  {
   "cell_type": "code",
   "execution_count": 16,
   "id": "d2a3d217",
   "metadata": {},
   "outputs": [
    {
     "data": {
      "text/plain": [
       "0.8144214645053103"
      ]
     },
     "execution_count": 16,
     "metadata": {},
     "output_type": "execute_result"
    }
   ],
   "source": [
    "# Report on model Accuracy\n",
    "svm_pred = svm.predict(test)\n",
    "metrics.accuracy_score(target_test, svm_pred)"
   ]
  },
  {
   "cell_type": "code",
   "execution_count": 17,
   "id": "26aa54b5",
   "metadata": {},
   "outputs": [
    {
     "data": {
      "text/plain": [
       "<sklearn.metrics._plot.roc_curve.RocCurveDisplay at 0x18388af2130>"
      ]
     },
     "execution_count": 17,
     "metadata": {},
     "output_type": "execute_result"
    },
    {
     "data": {
      "image/png": "[encoded data removed]",
      "text/plain": [
       "<Figure size 432x288 with 1 Axes>"
      ]
     },
     "metadata": {
      "needs_background": "light"
     },
     "output_type": "display_data"
    }
   ],
   "source": [
    "metrics.plot_roc_curve(svm, test, target_test)"
   ]
  },
  {
   "cell_type": "code",
   "execution_count": 18,
   "id": "3c99f360",
   "metadata": {},
   "outputs": [
    {
     "data": {
      "image/png": "[encoded data removed]",
      "text/plain": [
       "<Figure size 432x288 with 2 Axes>"
      ]
     },
     "metadata": {
      "needs_background": "light"
     },
     "output_type": "display_data"
    }
   ],
   "source": [
    "draw_confusion_matrix(target_test, svm_pred, ['Exoplanet', 'Not Exoplanet'])"
   ]
  }
 ],
 "metadata": {
  "kernelspec": {
   "display_name": "Python 3",
   "language": "python",
   "name": "python3"
  },
  "language_info": {
   "codemirror_mode": {
    "name": "ipython",
    "version": 3
   },
   "file_extension": ".py",
   "mimetype": "text/x-python",
   "name": "python",
   "nbconvert_exporter": "python",
   "pygments_lexer": "ipython3",
   "version": "3.8.8"
  }
 },
 "nbformat": 4,
 "nbformat_minor": 5
}
