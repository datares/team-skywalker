{
 "cells": [
  {
   "cell_type": "code",
   "execution_count": 1,
   "id": "99c8b929",
   "metadata": {},
   "outputs": [],
   "source": [
    "import pandas as pd\n",
    "import numpy as np\n",
    "from sklearn.model_selection import train_test_split\n",
    "from sklearn.naive_bayes import GaussianNB\n",
    "from sklearn.metrics import accuracy_score\n",
    "import matplotlib.pyplot as plt\n",
    "import seaborn as sns\n",
    "import os\n",
    "import seaborn as sns # used for plot interactive graph.\n",
    "from sklearn.model_selection import train_test_split, cross_val_score, GridSearchCV\n",
    "from sklearn import metrics\n",
    "from sklearn.svm import SVC  \n",
    "from sklearn.linear_model import LogisticRegression\n",
    "from sklearn.neighbors import KNeighborsClassifier\n",
    "from sklearn.tree import DecisionTreeClassifier\n",
    "from sklearn.cluster import KMeans\n",
    "from sklearn.metrics import confusion_matrix\n",
    "import sklearn.metrics.cluster as smc\n",
    "from sklearn.model_selection import KFold\n",
    "from sklearn.preprocessing import LabelEncoder, StandardScaler\n",
    "import itertools\n",
    "\n",
    "%matplotlib inline\n",
    "\n",
    "import random \n",
    "kepler = pd.read_csv('Desktop/cleanData2.csv')\n",
    "\n",
    "kepler.drop('Unnamed: 0', axis = 1,inplace=True)\n",
    "\n",
    "kepler.drop('koi_score', inplace=True, axis=1)\n",
    "kepler.dropna(inplace=True)\n",
    "\n",
    "label = \"koi_pdisposition\"\n",
    "y = kepler[label]\n",
    "x = kepler.drop(label, axis=1)"
   ]
  },
  {
   "cell_type": "code",
   "execution_count": 2,
   "id": "c3bd30bb",
   "metadata": {},
   "outputs": [],
   "source": [
    "train, test, target, target_test = train_test_split(x, y, test_size=0.2, random_state=0)"
   ]
  },
  {
   "cell_type": "code",
   "execution_count": 3,
   "id": "e46d9574",
   "metadata": {},
   "outputs": [
    {
     "data": {
      "text/plain": [
       "GaussianNB()"
      ]
     },
     "execution_count": 3,
     "metadata": {},
     "output_type": "execute_result"
    }
   ],
   "source": [
    "gauss = GaussianNB()\n",
    "gauss.fit(train, target)"
   ]
  },
  {
   "cell_type": "code",
   "execution_count": 5,
   "id": "4a3b637a",
   "metadata": {},
   "outputs": [
    {
     "name": "stdout",
     "output_type": "stream",
     "text": [
      "0.9921743991056456\n",
      "0.9917551704863052\n"
     ]
    }
   ],
   "source": [
    "##WITH FLAGS\n",
    "from sklearn import metrics\n",
    "gauss_pred = gauss.predict(test)\n",
    "gauss_pred1 = gauss.predict(train)\n",
    "score1 = metrics.accuracy_score(target_test, gauss_pred)\n",
    "score2 = metrics.accuracy_score(target, gauss_pred1)\n",
    "print(score1)\n",
    "print(score2)"
   ]
  },
  {
   "cell_type": "code",
   "execution_count": 6,
   "id": "ad0c2abe",
   "metadata": {},
   "outputs": [],
   "source": [
    "from sklearn.naive_bayes import MultinomialNB\n",
    "from sklearn.naive_bayes import BernoulliNB\n",
    "bernoulli = BernoulliNB()"
   ]
  },
  {
   "cell_type": "code",
   "execution_count": 7,
   "id": "d86f03ff",
   "metadata": {},
   "outputs": [
    {
     "data": {
      "text/plain": [
       "BernoulliNB()"
      ]
     },
     "execution_count": 7,
     "metadata": {},
     "output_type": "execute_result"
    }
   ],
   "source": [
    "train, test, target, target_test = train_test_split(x, y, test_size=0.2, random_state=0)\n",
    "bernoulli.fit(train, target)"
   ]
  },
  {
   "cell_type": "code",
   "execution_count": 8,
   "id": "cab3c4e4",
   "metadata": {},
   "outputs": [
    {
     "name": "stdout",
     "output_type": "stream",
     "text": [
      "0.9798770262716602\n",
      "0.9773616545556176\n"
     ]
    }
   ],
   "source": [
    "ber_pred = bernoulli.predict(test)\n",
    "ber_pred1 = bernoulli.predict(train)\n",
    "score1 = metrics.accuracy_score(target_test, ber_pred)\n",
    "score2 = metrics.accuracy_score(target, ber_pred1)\n",
    "print(score1)\n",
    "print(score2)"
   ]
  },
  {
   "cell_type": "code",
   "execution_count": 9,
   "id": "364ce2eb",
   "metadata": {},
   "outputs": [],
   "source": [
    "def draw_confusion_matrix(y, yhat, classes):\n",
    "    '''\n",
    "        Draws a confusion matrix for the given target and predictions\n",
    "        Adapted from scikit-learn and discussion example.\n",
    "    '''\n",
    "    plt.cla()\n",
    "    plt.clf()\n",
    "    matrix = confusion_matrix(y, yhat)\n",
    "    plt.imshow(matrix, interpolation='nearest', cmap=plt.cm.Blues)\n",
    "    plt.title(\"Confusion Matrix\")\n",
    "    plt.colorbar()\n",
    "    num_classes = len(classes)\n",
    "    plt.xticks(np.arange(num_classes), classes, rotation=90)\n",
    "    plt.yticks(np.arange(num_classes), classes)\n",
    "    \n",
    "    fmt = 'd'\n",
    "    thresh = matrix.max() / 2.\n",
    "    for i, j in itertools.product(range(matrix.shape[0]), range(matrix.shape[1])):\n",
    "        plt.text(j, i, format(matrix[i, j], fmt),\n",
    "                 horizontalalignment=\"center\",\n",
    "                 color=\"white\" if matrix[i, j] > thresh else \"black\")\n",
    "\n",
    "    plt.ylabel('True label')\n",
    "    plt.xlabel('Predicted label')\n",
    "    plt.tight_layout()\n",
    "    plt.show()"
   ]
  },
  {
   "cell_type": "code",
   "execution_count": 11,
   "id": "064dde1e",
   "metadata": {},
   "outputs": [
    {
     "data": {
      "image/png": "[encoded data removed]",
      "text/plain": [
       "<Figure size 432x288 with 2 Axes>"
      ]
     },
     "metadata": {
      "needs_background": "light"
     },
     "output_type": "display_data"
    }
   ],
   "source": [
    "draw_confusion_matrix(target_test, gauss_pred, ['Exoplanet', 'Not Exoplanet'])"
   ]
  },
  {
   "cell_type": "code",
   "execution_count": 12,
   "id": "fcbb2543",
   "metadata": {},
   "outputs": [
    {
     "data": {
      "image/png": "[encoded data removed]",
      "text/plain": [
       "<Figure size 432x288 with 2 Axes>"
      ]
     },
     "metadata": {
      "needs_background": "light"
     },
     "output_type": "display_data"
    }
   ],
   "source": [
    "draw_confusion_matrix(target_test, ber_pred, ['Exoplanet', 'Not Exoplanet'])"
   ]
  },
  {
   "cell_type": "code",
   "execution_count": 13,
   "id": "4288224c",
   "metadata": {},
   "outputs": [],
   "source": [
    "##WITHOUT FLAGS\n",
    "flags = [col for col in kepler.columns if 'flag' in col]\n",
    "kepler2 = kepler.drop(flags, axis=1)\n",
    "label = \"koi_pdisposition\"\n",
    "y2 = kepler2[label]\n",
    "x2 = kepler2.drop(label, axis=1)"
   ]
  },
  {
   "cell_type": "code",
   "execution_count": 14,
   "id": "27c6e6f9",
   "metadata": {},
   "outputs": [
    {
     "data": {
      "text/plain": [
       "GaussianNB()"
      ]
     },
     "execution_count": 14,
     "metadata": {},
     "output_type": "execute_result"
    }
   ],
   "source": [
    "train, test, target, target_test = train_test_split(x2, y2, test_size=0.2, random_state=0)\n",
    "gauss.fit(train, target)"
   ]
  },
  {
   "cell_type": "code",
   "execution_count": 15,
   "id": "e824c4de",
   "metadata": {},
   "outputs": [
    {
     "name": "stdout",
     "output_type": "stream",
     "text": [
      "0.650642817216322\n",
      "0.6513415315818893\n"
     ]
    }
   ],
   "source": [
    "gauss_pred = gauss.predict(test)\n",
    "gauss_pred1 = gauss.predict(train)\n",
    "score1 = metrics.accuracy_score(target_test, gauss_pred)\n",
    "score2 = metrics.accuracy_score(target, gauss_pred1)\n",
    "print(score1)\n",
    "print(score2)"
   ]
  },
  {
   "cell_type": "code",
   "execution_count": 16,
   "id": "c26f2348",
   "metadata": {},
   "outputs": [
    {
     "name": "stdout",
     "output_type": "stream",
     "text": [
      "0.6948015651201789\n",
      "0.7072386808272778\n"
     ]
    }
   ],
   "source": [
    "train, test, target, target_test = train_test_split(x2, y2, test_size=0.2, random_state=0)\n",
    "bernoulli.fit(train, target)\n",
    "ber_pred = bernoulli.predict(test)\n",
    "ber_pred1 = bernoulli.predict(train)\n",
    "score1 = metrics.accuracy_score(target_test, ber_pred)\n",
    "score2 = metrics.accuracy_score(target, ber_pred1)\n",
    "print(score1)\n",
    "print(score2)"
   ]
  },
  {
   "cell_type": "code",
   "execution_count": 21,
   "id": "ea890ad6",
   "metadata": {},
   "outputs": [
    {
     "data": {
      "image/png": "[encoded data removed]",
      "text/plain": [
       "<Figure size 432x288 with 2 Axes>"
      ]
     },
     "metadata": {
      "needs_background": "light"
     },
     "output_type": "display_data"
    }
   ],
   "source": [
    "draw_confusion_matrix(target_test, gauss_pred, ['Exoplanet', 'Not Exoplanet'])"
   ]
  },
  {
   "cell_type": "code",
   "execution_count": 19,
   "id": "2255d80d",
   "metadata": {},
   "outputs": [
    {
     "data": {
      "image/png": "[encoded data removed]",
      "text/plain": [
       "<Figure size 432x288 with 2 Axes>"
      ]
     },
     "metadata": {
      "needs_background": "light"
     },
     "output_type": "display_data"
    }
   ],
   "source": [
    "draw_confusion_matrix(target_test, ber_pred, ['Exoplanet', 'Not Exoplanet'])"
   ]
  },
  {
   "cell_type": "code",
   "execution_count": null,
   "id": "67ffa86e",
   "metadata": {},
   "outputs": [],
   "source": []
  }
 ],
 "metadata": {
  "kernelspec": {
   "display_name": "Python 3",
   "language": "python",
   "name": "python3"
  },
  "language_info": {
   "codemirror_mode": {
    "name": "ipython",
    "version": 3
   },
   "file_extension": ".py",
   "mimetype": "text/x-python",
   "name": "python",
   "nbconvert_exporter": "python",
   "pygments_lexer": "ipython3",
   "version": "3.9.1"
  }
 },
 "nbformat": 4,
 "nbformat_minor": 5
}
